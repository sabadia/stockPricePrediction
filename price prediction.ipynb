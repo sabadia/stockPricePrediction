{
 "cells": [
  {
   "cell_type": "code",
   "execution_count": 23,
   "metadata": {},
   "outputs": [],
   "source": [
    "import numpy as np\n",
    "import matplotlib.pyplot as plt\n",
    "import pandas as pd\n",
    "from sklearn.preprocessing import MinMaxScaler\n",
    "from keras.models import Sequential\n",
    "from keras.layers import Dense\n",
    "from keras.layers import LSTM\n",
    "from keras.layers import Dropout"
   ]
  },
  {
   "cell_type": "code",
   "execution_count": 24,
   "metadata": {},
   "outputs": [],
   "source": [
    "# Importing the training set\n",
    "dataset_train = pd.read_csv('janata.csv')\n",
    "training_set = dataset_train.iloc[:, 4:5].values\n"
   ]
  },
  {
   "cell_type": "code",
   "execution_count": 25,
   "metadata": {},
   "outputs": [],
   "source": [
    "# Feature Scaling\n",
    "sc = MinMaxScaler(feature_range = (0, 1))\n",
    "training_set_scaled = sc.fit_transform(training_set)\n"
   ]
  },
  {
   "cell_type": "code",
   "execution_count": 63,
   "metadata": {},
   "outputs": [],
   "source": [
    "### Creating a data structure with 60 timesteps and 1 output\n",
    "timestamp = 6"
   ]
  },
  {
   "cell_type": "code",
   "execution_count": 64,
   "metadata": {},
   "outputs": [],
   "source": [
    "X_train = []\n",
    "y_train = []\n",
    "for i in range(timestamp,len(training_set_scaled)):\n",
    "    X_train.append(training_set_scaled[i-timestamp:i, 0])\n",
    "    y_train.append(training_set_scaled[i, 0])\n",
    "X_train, y_train = np.array(X_train), np.array(y_train)"
   ]
  },
  {
   "cell_type": "code",
   "execution_count": 65,
   "metadata": {},
   "outputs": [],
   "source": [
    "# Reshaping\n",
    "X_train = np.reshape(X_train, (X_train.shape[0], X_train.shape[1], 1))"
   ]
  },
  {
   "cell_type": "code",
   "execution_count": 66,
   "metadata": {},
   "outputs": [],
   "source": [
    "# Part 2 - Building the RNN"
   ]
  },
  {
   "cell_type": "code",
   "execution_count": 75,
   "metadata": {},
   "outputs": [
    {
     "name": "stdout",
     "output_type": "stream",
     "text": [
      "Epoch 1/40\n",
      "5149/5149 [==============================] - 10s 2ms/step - loss: 0.0063\n",
      "Epoch 2/40\n",
      "5149/5149 [==============================] - 5s 905us/step - loss: 0.0013\n",
      "Epoch 3/40\n",
      "5149/5149 [==============================] - 5s 908us/step - loss: 0.0011\n",
      "Epoch 4/40\n",
      "5149/5149 [==============================] - 5s 902us/step - loss: 0.0011\n",
      "Epoch 5/40\n",
      "5149/5149 [==============================] - 5s 909us/step - loss: 0.0011\n",
      "Epoch 6/40\n",
      "5149/5149 [==============================] - 5s 1ms/step - loss: 0.0011\n",
      "Epoch 7/40\n",
      "5149/5149 [==============================] - 5s 1ms/step - loss: 0.0010\n",
      "Epoch 8/40\n",
      "5149/5149 [==============================] - 5s 1ms/step - loss: 8.9709e-04\n",
      "Epoch 9/40\n",
      "5149/5149 [==============================] - 5s 1ms/step - loss: 9.6217e-04\n",
      "Epoch 10/40\n",
      "5149/5149 [==============================] - 5s 1ms/step - loss: 8.2934e-04\n",
      "Epoch 11/40\n",
      "5149/5149 [==============================] - 6s 1ms/step - loss: 8.6835e-04\n",
      "Epoch 12/40\n",
      "5149/5149 [==============================] - 5s 1ms/step - loss: 8.0897e-04\n",
      "Epoch 13/40\n",
      "5149/5149 [==============================] - 5s 1ms/step - loss: 7.7208e-04\n",
      "Epoch 14/40\n",
      "5149/5149 [==============================] - 6s 1ms/step - loss: 7.7965e-04\n",
      "Epoch 15/40\n",
      "5149/5149 [==============================] - 5s 1ms/step - loss: 7.5395e-04\n",
      "Epoch 16/40\n",
      "5149/5149 [==============================] - 5s 1ms/step - loss: 7.4623e-04\n",
      "Epoch 17/40\n",
      "5149/5149 [==============================] - 6s 1ms/step - loss: 7.0547e-04\n",
      "Epoch 18/40\n",
      "5149/5149 [==============================] - 5s 1ms/step - loss: 6.8930e-04\n",
      "Epoch 19/40\n",
      "5149/5149 [==============================] - 5s 1ms/step - loss: 6.7887e-04\n",
      "Epoch 20/40\n",
      "5149/5149 [==============================] - 5s 1ms/step - loss: 6.0202e-04\n",
      "Epoch 21/40\n",
      "5149/5149 [==============================] - 5s 1ms/step - loss: 6.9929e-04\n",
      "Epoch 22/40\n",
      "5149/5149 [==============================] - 6s 1ms/step - loss: 6.3107e-04\n",
      "Epoch 23/40\n",
      "5149/5149 [==============================] - 5s 1ms/step - loss: 6.1490e-04\n",
      "Epoch 24/40\n",
      "5149/5149 [==============================] - 5s 1ms/step - loss: 6.1323e-04\n",
      "Epoch 25/40\n",
      "5149/5149 [==============================] - 5s 1ms/step - loss: 5.8048e-04\n",
      "Epoch 26/40\n",
      "5149/5149 [==============================] - 5s 1ms/step - loss: 6.3133e-04\n",
      "Epoch 27/40\n",
      "5149/5149 [==============================] - 5s 1ms/step - loss: 5.7661e-04\n",
      "Epoch 28/40\n",
      "5149/5149 [==============================] - 6s 1ms/step - loss: 5.3639e-04\n",
      "Epoch 29/40\n",
      "5149/5149 [==============================] - 6s 1ms/step - loss: 6.1590e-04\n",
      "Epoch 30/40\n",
      "5149/5149 [==============================] - 5s 1ms/step - loss: 5.3034e-04\n",
      "Epoch 31/40\n",
      "5149/5149 [==============================] - 5s 1ms/step - loss: 5.7869e-04\n",
      "Epoch 32/40\n",
      "5149/5149 [==============================] - 5s 1ms/step - loss: 5.8585e-04\n",
      "Epoch 33/40\n",
      "5149/5149 [==============================] - 5s 1ms/step - loss: 5.0354e-04\n",
      "Epoch 34/40\n",
      "5149/5149 [==============================] - 5s 1ms/step - loss: 5.1009e-04\n",
      "Epoch 35/40\n",
      "5149/5149 [==============================] - 5s 1ms/step - loss: 5.4097e-04\n",
      "Epoch 36/40\n",
      "5149/5149 [==============================] - 5s 1ms/step - loss: 5.0648e-04\n",
      "Epoch 37/40\n",
      "5149/5149 [==============================] - 5s 1ms/step - loss: 4.9492e-04\n",
      "Epoch 38/40\n",
      "5149/5149 [==============================] - 5s 1ms/step - loss: 4.7125e-04\n",
      "Epoch 39/40\n",
      "5149/5149 [==============================] - 5s 1ms/step - loss: 4.8424e-04\n",
      "Epoch 40/40\n",
      "5149/5149 [==============================] - 6s 1ms/step - loss: 4.6834e-04\n"
     ]
    },
    {
     "data": {
      "text/plain": [
       "<keras.callbacks.History at 0x2a49c787940>"
      ]
     },
     "execution_count": 75,
     "metadata": {},
     "output_type": "execute_result"
    }
   ],
   "source": [
    "# Initialising the RNN\n",
    "regressor = Sequential()\n",
    "\n",
    "# Adding the first LSTM layer and some Dropout regularisation\n",
    "regressor.add(LSTM(units = 50, return_sequences = True, input_shape = (X_train.shape[1], 1)))\n",
    "regressor.add(Dropout(0.2))\n",
    "\n",
    "# Adding a second LSTM layer and some Dropout regularisation\n",
    "regressor.add(LSTM(units = 50, return_sequences = True))\n",
    "regressor.add(Dropout(0.2))\n",
    "\n",
    "# Adding a third LSTM layer and some Dropout regularisation\n",
    "regressor.add(LSTM(units = 50, return_sequences = True))\n",
    "regressor.add(Dropout(0.2))\n",
    "\n",
    "# Adding a fourth LSTM layer and some Dropout regularisation\n",
    "regressor.add(LSTM(units = 50))\n",
    "regressor.add(Dropout(0.2))\n",
    "\n",
    "# Adding the output layer\n",
    "regressor.add(Dense(units = 1))\n",
    "\n",
    "# Compiling the RNN\n",
    "regressor.compile(optimizer = 'adam', loss = 'mean_squared_error')\n",
    "\n",
    "# Fitting the RNN to the Training set\n",
    "regressor.fit(X_train, y_train, epochs = 40, batch_size = 32)"
   ]
  },
  {
   "cell_type": "code",
   "execution_count": 76,
   "metadata": {},
   "outputs": [],
   "source": [
    "dataset_test = pd.read_csv('test.csv')"
   ]
  },
  {
   "cell_type": "code",
   "execution_count": 77,
   "metadata": {},
   "outputs": [],
   "source": [
    "real_stock_price = dataset_test.iloc[:, 4:5].values\n",
    "dataset_total = pd.concat((dataset_train['close'], dataset_test['close']), axis = 0)"
   ]
  },
  {
   "cell_type": "code",
   "execution_count": 79,
   "metadata": {},
   "outputs": [
    {
     "data": {
      "image/png": "[encoded data removed]",
      "text/plain": [
       "<Figure size 432x288 with 1 Axes>"
      ]
     },
     "metadata": {
      "needs_background": "light"
     },
     "output_type": "display_data"
    }
   ],
   "source": [
    "inputs = dataset_total[len(dataset_total) - len(dataset_test) - timestamp:].values\n",
    "inputs = inputs.reshape(-1,1)\n",
    "inputs = sc.transform(inputs)\n",
    "X_test = []\n",
    "for i in range(timestamp, timestamp + 30):\n",
    "    X_test.append(inputs[i-timestamp:i, 0])\n",
    "X_test = np.array(X_test)\n",
    "X_test = np.reshape(X_test, (X_test.shape[0], X_test.shape[1], 1))\n",
    "predicted_stock_price = regressor.predict(X_test)\n",
    "predicted_stock_price = sc.inverse_transform(predicted_stock_price)\n",
    "# Visualising the results\n",
    "plt.plot(real_stock_price, color = 'red', label = 'Real janata Stock Price')\n",
    "plt.plot(predicted_stock_price, color = 'blue', label = 'Predicted janata Stock Price')\n",
    "plt.title('janata Stock Price Prediction')\n",
    "plt.xlabel('Time')\n",
    "plt.ylabel('janata Stock Price')\n",
    "plt.legend()\n",
    "plt.show()"
   ]
  },
  {
   "cell_type": "code",
   "execution_count": null,
   "metadata": {},
   "outputs": [],
   "source": []
  }
 ],
 "metadata": {
  "kernelspec": {
   "display_name": "Python 3",
   "language": "python",
   "name": "python3"
  },
  "language_info": {
   "codemirror_mode": {
    "name": "ipython",
    "version": 3
   },
   "file_extension": ".py",
   "mimetype": "text/x-python",
   "name": "python",
   "nbconvert_exporter": "python",
   "pygments_lexer": "ipython3",
   "version": "3.7.1"
  }
 },
 "nbformat": 4,
 "nbformat_minor": 2
}
